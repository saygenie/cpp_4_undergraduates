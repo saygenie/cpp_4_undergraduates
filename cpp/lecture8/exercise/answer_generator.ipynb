{
 "cells": [
  {
   "cell_type": "code",
   "execution_count": 10,
   "metadata": {},
   "outputs": [],
   "source": [
    "import os\n",
    "\n",
    "cpp_files = [\"v1\", \"v2\", \"v3\", \"v4\", \"v5\", \"v6\",\n",
    "             \"s1\", \"s2\", \"s3\", \"s4\",\n",
    "             \"c1\", \"c2\"]\n",
    "\n",
    "for file in cpp_files:\n",
    "    file_name = \"./test_STL/\" + file + \".cpp\"\n",
    "    os.system(\"g++ \" + file_name)\n",
    "    result_raw = os.popen(\"./a.out\")\n",
    "    result = result_raw.read()\n",
    "    \n",
    "    answer_file_name = \"./answer/\" + file + \".txt\"\n",
    "    f = open(answer_file_name, \"w\")\n",
    "    f.write(result)\n",
    "    f.close()"
   ]
  }
 ],
 "metadata": {
  "kernelspec": {
   "display_name": "Python 3.7.6 64-bit",
   "language": "python",
   "name": "python37664bit8705a8e4926f456591d9648c512b68b8"
  },
  "language_info": {
   "codemirror_mode": {
    "name": "ipython",
    "version": 3
   },
   "file_extension": ".py",
   "mimetype": "text/x-python",
   "name": "python",
   "nbconvert_exporter": "python",
   "pygments_lexer": "ipython3",
   "version": "3.7.6"
  }
 },
 "nbformat": 4,
 "nbformat_minor": 4
}
